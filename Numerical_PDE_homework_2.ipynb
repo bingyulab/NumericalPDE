{
  "cells": [
    {
      "cell_type": "markdown",
      "metadata": {
        "id": "view-in-github",
        "colab_type": "text"
      },
      "source": [
        "<a href=\"https://colab.research.google.com/github/bingyulab/NumericalPDE/blob/main/Numerical_PDE_homework_2.ipynb\" target=\"_parent\"><img src=\"https://colab.research.google.com/assets/colab-badge.svg\" alt=\"Open In Colab\"/></a>"
      ]
    },
    {
      "cell_type": "markdown",
      "id": "44e08871",
      "metadata": {
        "lines_to_next_cell": 0,
        "id": "44e08871"
      },
      "source": [
        "# A first finite element code\n",
        "\n",
        "In this notebook we will develop a one-dimensional finite Galerkin finite\n",
        "element code.\n",
        "\n",
        "```{note}\n",
        "This notebook is incomplete and will be completed as an exercise in class.\n",
        "```\n",
        "\n",
        "## Basic algorithm\n",
        "\n",
        "Recall that using the notions in {doc}`part1` and during class we derived the\n",
        "following expressions for the entries of the finite element stiffness matrix\n",
        "$\\mathbf{K}$ and load vector $\\mathbf{f}$\n",
        "\n",
        "$$\n",
        "\\begin{align}\n",
        "K_{ij} &:= \\sum_{K \\in \\mathcal{T}_h} \\int_{K} \\nabla \\phi_i \\cdot \\nabla \\phi_j \\; \\mathrm{d}x, \\\\\n",
        "f_{j} &:= \\sum_{K \\in \\mathcal{T}_h} \\int_{K} f \\phi_j \\; \\mathrm{d}x.\n",
        "\\end{align}\n",
        "$$\n",
        "\n",
        "Instead of calculating each entry of $K_{ij}$ we discussed that the most\n",
        "straightforward way to *assemble* the stiffness matrix is to:\n",
        "1. Loop over the global cells $K$ of the mesh $\\mathcal{T}_h$.\n",
        "2. Calculate the cell local contribution $\\mathbf{K}_K \\in \\mathbb{R}^{2\n",
        "\\times 2}$.\n",
        "3. Determine which pair of finite element basis functions are active on the\n",
        "   cell.\n",
        "4. *Assemble* (add) the cell local contribution to the stiffness matrix at\n",
        "   the location of the active basis functions.\n",
        "\n",
        "The load vector assembly follows similarly.\n"
      ]
    },
    {
      "cell_type": "markdown",
      "source": [
        "\n",
        "### Exercise 1\n",
        "\n",
        "For a general cell $K$ derive an explicit symbolic expression for the cell\n",
        "local contribution $\\mathbf{K}_K \\in \\mathbb{R}^{2 \\times 2}$ in terms of\n",
        "$h$. Use the local-to-global mapping approach shown in class.\n",
        "\n",
        "*Answer*\n",
        "\n",
        "\n",
        "1. **Reference element**\n",
        "   $$\n",
        "   \\hat K = [0,1],\n",
        "   \\quad\n",
        "   \\hat\\phi_0(\\hat x)=1-\\hat x,\\quad \\hat\\phi_1(\\hat x)=\\hat x.\n",
        "   $$\n",
        "   Their derivatives on $\\hat K$ are\n",
        "   $$\n",
        "   \\frac{d\\hat\\phi_0}{d\\hat x}=-1,\n",
        "   \\quad\n",
        "   \\frac{d\\hat\\phi_1}{d\\hat x}=+1.\n",
        "   $$\n",
        "2. **Affine map to physical cell**\n",
        "   $$\n",
        "   x = a + h\\,\\hat x,\\qquad h=b-a.\n",
        "   $$\n",
        "   Hence\n",
        "   $$\n",
        "   \\frac{d}{dx}\n",
        "   =\\frac{1}{h}\\,\\frac{d}{d\\hat x},\n",
        "   $$\n",
        "   and the physical basis-function derivatives are\n",
        "   $$\n",
        "   \\phi_i'(x)\n",
        "   =\\frac{d\\hat\\phi_i}{d\\hat x}\\;\\frac{1}{h}\n",
        "   =\\begin{cases}\n",
        "   -\\tfrac1h,&i=0,\\\\[6pt]\n",
        "    \\tfrac1h,&i=1.\n",
        "   \\end{cases}\n",
        "   $$\n",
        "3. **Local stiffness entries**  \n",
        "   On cell $K$, the $(i,j)$ entry is\n",
        "\n",
        "   $$\n",
        "   (\\mathbf K_K)_{ij}\n",
        "   =\\int_K \\phi_i'(x)\\,\\phi_j'(x)\\,dx\n",
        "   =\\int_0^1\\Bigl(\\tfrac1h\\,\\tfrac{d\\hat\\phi_i}{d\\hat x}\\Bigr)\n",
        "                \\Bigl(\\tfrac1h\\,\\tfrac{d\\hat\\phi_j}{d\\hat x}\\Bigr)\n",
        "                \\;h\\,d\\hat x\n",
        "   =\\frac1h\\int_0^1\\frac{d\\hat\\phi_i}{d\\hat x}\\,\\frac{d\\hat\\phi_j}{d\\hat x}\\,d\\hat x.\n",
        "   $$\n",
        "\n",
        "   Since $\\int_0^1 1\\cdot1\\,d\\hat x=1,\\;\\int_0^1 1\\cdot(-1)\\,d\\hat x=-1$, etc., one finds\n",
        "\n",
        "   $$\n",
        "   \\mathbf K_K\n",
        "   =\\frac1h\n",
        "   \\begin{bmatrix}\n",
        "     \\displaystyle\\int_0^1(-1)(-1)\\,d\\hat x &\n",
        "     \\displaystyle\\int_0^1(-1)(+1)\\,d\\hat x \\\\[8pt]\n",
        "     \\displaystyle\\int_0^1(+1)(-1)\\,d\\hat x &\n",
        "     \\displaystyle\\int_0^1(+1)(+1)\\,d\\hat x\n",
        "   \\end{bmatrix}\n",
        "   =\\frac1h\n",
        "   \\begin{bmatrix}\n",
        "     1 & -1\\\\\n",
        "    -1 &  1\n",
        "   \\end{bmatrix}.\n",
        "   $$\n",
        "\n",
        "4. **Final answer**  \n",
        "   On any cell $K=[a,b]$ of length $h=b-a$,\n",
        "\n",
        "   $$\n",
        "   \\boxed{\n",
        "   \\mathbf K_K\n",
        "   =\\int_K\n",
        "      \\begin{bmatrix}\n",
        "        \\phi_0'\\phi_0' & \\phi_0'\\phi_1'\\\\\n",
        "        \\phi_1'\\phi_0' & \\phi_1'\\phi_1'\n",
        "      \\end{bmatrix}\n",
        "    dx\n",
        "   =\\frac1{b-a}\n",
        "   \\begin{bmatrix}\n",
        "     1 & -1\\\\\n",
        "    -1 &  1\n",
        "   \\end{bmatrix}.\n",
        "   }\n",
        "   $$\n",
        "5. **Different way**  \n",
        "In reference coordinates:\n",
        "$$\n",
        "\\dot{K}_K = \\frac{1}{h} \\int_{\\hat{K}} \\frac{d\\hat{\\phi}_i}{d\\hat{x}} \\frac{d\\hat{\\phi}_j}{d\\hat{x}} \\, d\\hat{x}\n",
        "$$\n",
        "use the change of variables:\n",
        "- $dx = h \\, d\\hat{x}$ (so $d\\hat{x} = \\frac{1}{h} dx$)\n",
        "- and $\\phi_i'(x) = \\frac{1}{h} \\frac{d\\hat{\\phi}_i}{d\\hat{x}}$\n",
        "\n",
        "So the full transformation becomes:\n",
        "\n",
        "$$\n",
        "\\begin{align}\n",
        " & \\int_K \\phi_i'(x) \\phi_j'(x) \\, dx\n",
        "= \\int_0^1 \\left(\\frac{1}{h} \\frac{d\\hat{\\phi}_i}{d\\hat{x}}\\right)\\left(\\frac{1}{h} \\frac{d\\hat{\\phi}_j}{d\\hat{x}}\\right) h \\, d\\hat{x}\n",
        " \\\\\n",
        " & = \\frac{1}{h} \\int_0^1 \\frac{d\\hat{\\phi}_i}{d\\hat{x}} \\frac{d\\hat{\\phi}_j}{d\\hat{x}} \\, d\\hat{x}\n",
        "\\end{align}\n",
        "$$\n",
        "which yields same results.\n"
      ],
      "metadata": {
        "id": "0og9Buu6SzJY"
      },
      "id": "0og9Buu6SzJY"
    },
    {
      "cell_type": "markdown",
      "source": [
        "\n",
        "### Exercise 2\n",
        "\n",
        "Complete the function `cell_stiffness` which returns the stiffness matrix for\n",
        "a cell with vertices $a$ and $b$ with $b > a$."
      ],
      "metadata": {
        "id": "H5lgRD4DS1jj"
      },
      "id": "H5lgRD4DS1jj"
    },
    {
      "cell_type": "code",
      "execution_count": 1,
      "id": "15eb3098",
      "metadata": {
        "colab": {
          "base_uri": "https://localhost:8080/"
        },
        "id": "15eb3098",
        "outputId": "9bb406fb-bcf0-4fc8-a627-9e9be4250caf"
      },
      "outputs": [
        {
          "output_type": "stream",
          "name": "stdout",
          "text": [
            "stiffness matrix: \n",
            " [[ 1. -1.]\n",
            " [-1.  1.]]\n"
          ]
        }
      ],
      "source": [
        "import numpy as np\n",
        "import numpy.typing as npt\n",
        "import scipy.sparse\n",
        "import matplotlib.pyplot as plt\n",
        "from typing import NamedTuple, Callable\n",
        "\n",
        "\n",
        "def cell_stiffness(a: float, b: float) -> npt.NDArray[np.float64]:\n",
        "    \"\"\"Calculate the stiffness matrix contribution for a cell with vertices a and b.\n",
        "\n",
        "    Args:\n",
        "        a: Position of first vertex.\n",
        "        b: Position of second vertex.\n",
        "\n",
        "    Return:\n",
        "        The stiffness matrix contribution for the cell.\n",
        "    \"\"\"\n",
        "    assert b > a\n",
        "    h = b - a\n",
        "    return (1 / h) * np.array([[1, -1], [-1, 1]], dtype=np.float64)\n",
        "\n",
        "stiffness_matrix = cell_stiffness(*[0.0, 1.0])\n",
        "assert stiffness_matrix.shape == (2, 2)\n",
        "print(f\"stiffness matrix: \\n\", stiffness_matrix)"
      ]
    },
    {
      "cell_type": "markdown",
      "id": "8c53284a",
      "metadata": {
        "lines_to_next_cell": 0,
        "id": "8c53284a"
      },
      "source": [
        "\n",
        "## Mesh\n",
        "\n",
        "The mesh will be composed of two data structures:\n",
        "1. the *geometry* which will contain the positions of the vertices of the\n",
        "mesh. The index on the first dimension (rows) is the mesh vertex number. The\n",
        "index on the second dimension (columns) of the geometry is the related to the\n",
        "coordinate index.\n",
        "2. the *topology*, which will contain the cell-to-vertex connectivity. The\n",
        "index on the first dimension (rows) is the cell number. The index on the\n",
        "second dimension (columns) are the indices of the vertices of the cell.\n",
        "\n",
        "Consider the case when we want to create a mesh with $N = 4$ cells. Here the\n",
        "geometry will be a two-dimensional numpy array containing\n",
        "\n",
        "$$\n",
        "\\text{geometry} =\n",
        "\\begin{bmatrix}\n",
        "0.0 \\\\\n",
        "0.25 \\\\\n",
        "0.5 \\\\\n",
        "0.75 \\\\\n",
        "1.0\n",
        "\\end{bmatrix},\n",
        "$$\n",
        "\n",
        "and the topology a two-dimensional numpy array containing\n",
        "\n",
        "$$\n",
        "\\text{topology} =\n",
        "\\begin{bmatrix}\n",
        "0 & 1 \\\\\n",
        "1 & 2 \\\\\n",
        "2 & 3 \\\\\n",
        "3 & 4\n",
        "\\end{bmatrix}.\n",
        "$$\n",
        "\n",
        "### Exercise 3\n",
        "\n",
        "Generalise the function `create_unit_interval_mesh` to arbitrary input\n",
        "`num_cells`.\n",
        "\n",
        "```{note}\n",
        "To avoid object-oriented programming, but to still keep the code tidy, we\n",
        "will use Python's namedtuple feature which allows tuples to have *named\n",
        "fields*.\n",
        "```\n"
      ]
    },
    {
      "cell_type": "code",
      "execution_count": 2,
      "id": "11ce46f3",
      "metadata": {
        "id": "11ce46f3"
      },
      "outputs": [],
      "source": [
        "Mesh = NamedTuple(\n",
        "    \"Mesh\", ((\"geometry\", npt.NDArray[np.float64]), (\"topology\", npt.NDArray[np.int32]))\n",
        ")\n",
        "\n",
        "\n",
        "def create_unit_interval_mesh(num_cells: int) -> Mesh:\n",
        "    \"\"\"\n",
        "    Generate a 1D uniform mesh on the unit interval.\n",
        "\n",
        "    Args:\n",
        "        num_cells: Number of cells.\n",
        "\n",
        "    Returns:\n",
        "        A 1D uniform mesh on the unit interval.\n",
        "    \"\"\"\n",
        "    geometry = np.linspace(0.0, 1.0, num_cells + 1).reshape(-1, 1)\n",
        "    # topology = np.array([[i, i + 1] for i in range(num_cells)], dtype=np.int32)\n",
        "    # Each cell connects vertex i to i+1\n",
        "    topology = np.vstack([np.arange(num_cells, dtype=np.int32),\n",
        "                          np.arange(1, num_cells + 1, dtype=np.int32)]).T\n",
        "    return Mesh(geometry=geometry, topology=topology)\n",
        "\n",
        "\n",
        "num_cells = 32\n",
        "c = 1.0 * np.pi\n",
        "mesh = create_unit_interval_mesh(num_cells)\n",
        "\n",
        "if num_cells == 4:\n",
        "    print(f\"Mesh: {mesh}\")\n",
        "    assert np.all(np.isclose(mesh.geometry, [[0.0], [0.25], [0.5], [0.75], [1.0]]))\n",
        "    assert np.all(np.isclose(mesh.topology, [[0, 1], [1, 2], [2, 3], [3, 4]]))"
      ]
    },
    {
      "cell_type": "markdown",
      "id": "3c10074f",
      "metadata": {
        "lines_to_next_cell": 0,
        "id": "3c10074f"
      },
      "source": [
        "For example, for the second cell we can get the connected global vertices using"
      ]
    },
    {
      "cell_type": "code",
      "execution_count": 3,
      "id": "9d5f4c29",
      "metadata": {
        "colab": {
          "base_uri": "https://localhost:8080/"
        },
        "id": "9d5f4c29",
        "outputId": "a0bb0ff6-3136-4624-d25e-09e6e36e8804"
      },
      "outputs": [
        {
          "output_type": "stream",
          "name": "stdout",
          "text": [
            "[1 2]\n"
          ]
        }
      ],
      "source": [
        "print(mesh.topology[1])"
      ]
    },
    {
      "cell_type": "markdown",
      "id": "93b5f883",
      "metadata": {
        "lines_to_next_cell": 0,
        "id": "93b5f883"
      },
      "source": [
        "and the position of the vertices using"
      ]
    },
    {
      "cell_type": "code",
      "execution_count": 4,
      "id": "ab28da17",
      "metadata": {
        "colab": {
          "base_uri": "https://localhost:8080/"
        },
        "id": "ab28da17",
        "outputId": "f558f421-e020-4a27-f4b5-9570d91c1695"
      },
      "outputs": [
        {
          "output_type": "stream",
          "name": "stdout",
          "text": [
            "[[0.03125]\n",
            " [0.0625 ]]\n"
          ]
        }
      ],
      "source": [
        "print(mesh.geometry[mesh.topology[1]])"
      ]
    },
    {
      "cell_type": "markdown",
      "id": "4dd07e70",
      "metadata": {
        "lines_to_next_cell": 0,
        "id": "4dd07e70"
      },
      "source": [
        "and assemble the local stiffness matrix contribution. The `*` unpacks the\n",
        "entries of the two element array into two separate variables `a` and `b`."
      ]
    },
    {
      "cell_type": "code",
      "execution_count": 5,
      "id": "af5171e6",
      "metadata": {
        "colab": {
          "base_uri": "https://localhost:8080/"
        },
        "id": "af5171e6",
        "outputId": "d2523e82-b94a-41b8-dcd9-b5b5bb95fa82"
      },
      "outputs": [
        {
          "output_type": "stream",
          "name": "stdout",
          "text": [
            "[[ 32. -32.]\n",
            " [-32.  32.]]\n"
          ]
        }
      ],
      "source": [
        "print(cell_stiffness(*mesh.geometry[mesh.topology[1]]))"
      ]
    },
    {
      "cell_type": "markdown",
      "id": "44da09ba",
      "metadata": {
        "lines_to_next_cell": 0,
        "id": "44da09ba"
      },
      "source": [
        "\n",
        "## Degree of freedom map\n",
        "\n",
        "The *degree of freedom map* `dofmap` will be an array contain information\n",
        "about the connection between the local basis functions (degrees of freedom)\n",
        "on the local cell and the global basis functions (degrees of freedom). On the\n",
        "first dimension (rows) the index is the mesh cell number. On the second\n",
        "dimension (columns) the index is the local degree of freedom number.\n",
        "\n",
        "For the $P_1$ finite element space $V_h$ each vertex is assigned one global\n",
        "degree of freedom. Each cell then has two global degrees of freedom. To\n",
        "ensure $C^0$ continuity, vertices shared by a cell must share global degrees\n",
        "of freedom.\n",
        "\n",
        "This is infact nothing more than the existing `mesh.topology` array! We\n",
        "simply make a copy and continue, but we explicitly use the right array, in\n",
        "the right place.\n",
        "\n",
        "We package up the `mesh`, `dofmap` and also make a record of the `size` of\n",
        "the function space in a new `NamedTuple` object `FunctionSpace`.\n",
        "\n",
        "```{note}\n",
        "This explicit separation between mesh topology, geometry and solution degrees\n",
        "of freedom is not necessary for this simple problem, but does mimic closer\n",
        "how a real finite element code such as [FEniCSx](https://fenicsproject.org)\n",
        "or [Firedrake](https://firedrakeproject.org) is organised.\n",
        "```"
      ]
    },
    {
      "cell_type": "code",
      "execution_count": 6,
      "id": "d4cbf7fa",
      "metadata": {
        "id": "d4cbf7fa"
      },
      "outputs": [],
      "source": [
        "FunctionSpace = NamedTuple(\n",
        "    \"FunctionSpace\",\n",
        "    (\n",
        "        (\"mesh\", Mesh),\n",
        "        (\"dofmap\", npt.NDArray[np.int32]),\n",
        "        (\"size\", npt.NDArray[np.int64]),\n",
        "    ),\n",
        ")\n",
        "fs = FunctionSpace(mesh=mesh, dofmap=mesh.topology.copy(), size=mesh.geometry.shape[0])"
      ]
    },
    {
      "cell_type": "markdown",
      "id": "ab0cc04f",
      "metadata": {
        "lines_to_next_cell": 0,
        "id": "ab0cc04f"
      },
      "source": [
        "For example, we can get the global degree of freedom for global cell 1\n",
        "associated with local degree of freedom 0 using"
      ]
    },
    {
      "cell_type": "code",
      "execution_count": 7,
      "id": "8d4b2fbe",
      "metadata": {
        "colab": {
          "base_uri": "https://localhost:8080/"
        },
        "id": "8d4b2fbe",
        "outputId": "e8b5172f-2405-4358-ec95-e85c678d9182"
      },
      "outputs": [
        {
          "output_type": "stream",
          "name": "stdout",
          "text": [
            "1\n"
          ]
        }
      ],
      "source": [
        "print(fs.dofmap[1, 0])"
      ]
    },
    {
      "cell_type": "markdown",
      "id": "7e7c3579",
      "metadata": {
        "lines_to_next_cell": 0,
        "id": "7e7c3579"
      },
      "source": [
        "## Assembly of $\\mathbf{K}$\n",
        "\n",
        "We now have everything we need to assemble $\\mathbf{K}$. Because of the local\n",
        "construction of the basis functions $\\mathbf{K}$ will be sparse, i.e. the\n",
        "majority of its entries will be zero.\n",
        "\n",
        "The package `scipy.sparse` contains various efficient sparse data structures.\n",
        "For simplicity I recommend building the sparse matrix in the [List of\n",
        "Lists](https://docs.scipy.org/doc/scipy/reference/generated/scipy.sparse.lil_matrix.html)\n",
        "(LOL) format and then converting to the [Compressed Sparse\n",
        "Row](https://docs.scipy.org/doc/scipy/reference/generated/scipy.sparse.csr_matrix.html)\n",
        "(CSR) format for efficient solution.\n",
        "\n",
        "```{note} The\n",
        "[COOrdinate](https://docs.scipy.org/doc/scipy/reference/generated/scipy.sparse.coo_array.html#scipy.sparse.coo_array)\n",
        "format is more efficient for construction than LOL. Constructing directly in\n",
        "CSR is possible and is also the most efficient, but is significantly more complex.\n",
        "```\n",
        "\n",
        "### Exercise 4\n",
        "\n",
        "Complete the function `assemble_stiffness`."
      ]
    },
    {
      "cell_type": "code",
      "execution_count": 8,
      "id": "efd499ae",
      "metadata": {
        "id": "efd499ae"
      },
      "outputs": [],
      "source": [
        "def assemble_stiffness(\n",
        "    fs: FunctionSpace, cell_stiffness_fn: Callable\n",
        ") -> scipy.sparse.lil_matrix:\n",
        "    \"\"\"Write a documentation string\"\"\"\n",
        "    K = scipy.sparse.lil_matrix((fs.size, fs.size))\n",
        "\n",
        "    # Loop over the cells of the mesh\n",
        "    for cell in range(0, fs.mesh.topology.shape[0]):\n",
        "        # Step 1: Calculate the stiffness matrix on this cell\n",
        "        cell_nodes = fs.mesh.topology[cell]  # e.g., [0, 1]\n",
        "        coords = fs.mesh.geometry[cell_nodes].flatten()  # coords of a and b\n",
        "        k_local = cell_stiffness(*coords) # 2 x 2 matrix\n",
        "        # Step 2: Extract the local to global degree of freedom mapping for the\n",
        "        # cell\n",
        "        dofs = fs.dofmap[cell] # local → global DOFs\n",
        "        # Step 3: Scatter to the sparse matrix\n",
        "        # Hint: K[np.ix_(dofs, dofs)] will select the right elements in K\n",
        "        K[np.ix_(dofs, dofs)] += k_local # scatter to global\n",
        "    return K\n",
        "\n",
        "\n",
        "K = assemble_stiffness(fs, cell_stiffness)\n",
        "if num_cells == 4:\n",
        "    print(K)\n",
        "    K_dense = K.todense()\n",
        "    assert np.all(np.isclose(K_dense, K_dense.T))"
      ]
    },
    {
      "cell_type": "markdown",
      "id": "ad9419b7",
      "metadata": {
        "lines_to_next_cell": 0,
        "id": "ad9419b7"
      },
      "source": [
        "## Assembly of $\\mathbf{f}$\n",
        "\n",
        "We will now assemble the load vector $\\mathbf{f}$.\n",
        "\n",
        "If we take $f(x)$ as a general function then we cannot usually symbolically\n",
        "calculate the cell local contribution $\\mathbf{f}_{K}$ to the load vector\n",
        "$\\mathbf{f}$. A standard approach is to use quadrature, which allows the\n",
        "approximation of an integral on the unit interval\n",
        "\n",
        "$$\n",
        "\\int_0^1 g(\\hat{x}) \\approx \\sum_{i = 0}^{n - 1} w_i g(\\hat{x}^q_i),\n",
        "$$\n",
        "\n",
        "where the $w_i$ are known as the quadrature weights and the $\\hat{x}_i^q$ as\n",
        "quadrature points. We will use a two-point rule $n = 2$ on $[0, 1]$ with\n",
        "points $\\hat{x}^q_0 = \\frac{1}{2} - \\frac{1}{2\\sqrt{3}}$ and $\\hat{x}^q_1 =\n",
        "\\frac{1}{2} + \\frac{1}{2\\sqrt{3}}$ associated with weights $w_1 = w_2 =\n",
        "\\frac{1}{2}$.\n",
        "\n",
        "```{note}\n",
        "In a proper finite element code *both* the element contributions of the\n",
        "stiffness matrix and load vector are calculated numerically through\n",
        "[quadrature](https://en.wikipedia.org/wiki/Gaussian_quadrature).\n",
        "```\n",
        "\n",
        "This rule can be defined in code as"
      ]
    },
    {
      "cell_type": "code",
      "execution_count": 9,
      "id": "4fdc257d",
      "metadata": {
        "id": "4fdc257d",
        "colab": {
          "base_uri": "https://localhost:8080/"
        },
        "outputId": "edae8be8-7c51-4f9e-8834-8343547c4201"
      },
      "outputs": [
        {
          "output_type": "stream",
          "name": "stdout",
          "text": [
            "quadrature_points: [0.21132487 0.78867513]\n",
            "quadrature_weights: [0.5 0.5]\n"
          ]
        }
      ],
      "source": [
        "quadrature_points = np.array(\n",
        "    [\n",
        "        (1.0 / 2.0) - (1.0 / (2.0 * np.sqrt(3.0))),\n",
        "        (1.0 / 2.0) + (1.0 / (2.0 * np.sqrt(3.0))),\n",
        "    ]\n",
        ")\n",
        "quadrature_weights = 0.5 * np.ones(2, dtype=np.float64)\n",
        "print(f\"quadrature_points: {quadrature_points}\")\n",
        "print(f\"quadrature_weights: {quadrature_weights}\")"
      ]
    },
    {
      "cell_type": "markdown",
      "id": "75d1b406",
      "metadata": {
        "lines_to_next_cell": 0,
        "id": "75d1b406"
      },
      "source": [
        "### Exercise 5\n",
        "\n",
        "Using the local-to-global approach and a quadrature rule with $n$ points\n",
        "derive the cell local contribution $\\mathbf{f}_K$ to the load vector\n",
        "$\\mathbf{f}$.\n"
      ]
    },
    {
      "cell_type": "markdown",
      "id": "7a48fb55",
      "metadata": {
        "lines_to_next_cell": 2,
        "id": "7a48fb55"
      },
      "source": [
        "Write your answer using Markdown here.\n",
        "\n",
        "\n",
        "1. **Physical cell**\n",
        "   Let $K=[a,b]$ be one element of length $h=b-a$, with local basis $\\{\\phi_i(x)\\}_{i=1}^m$.\n",
        "2. **Reference cell**\n",
        "   Map $\\hat x\\in[0,1]$ to $x\\in[a,b]$ by\n",
        "   $$\n",
        "     x = a + h\\,\\hat x,\n",
        "     \\quad\n",
        "     dx = h\\,d\\hat x.\n",
        "   $$\n",
        "   Denote by $\\hat\\phi_i(\\hat x)$ the corresponding reference basis:    $\\phi_i(x)=\\hat\\phi_i(\\hat x)$.\n",
        "3. **Change of variables**\n",
        "   $$\n",
        "   f_K^i\n",
        "   = \\int_a^b f(x)\\,\\phi_i(x)\\,dx\n",
        "   = \\int_0^1 f\\bigl(a + h\\,\\hat x\\bigr)\\,\\hat\\phi_i(\\hat x)\\;h\\,d\\hat x.\n",
        "   $$\n",
        "4. **$n$-point quadrature**\n",
        "   Let $\\{\\hat x_q\\}_{q=1}^n$, $\\{w_q\\}_{q=1}^n$ be a quadrature rule on $[0,1]$, exact for polynomials up to degree $p$. Then\n",
        "   $$\n",
        "   \\int_0^1 g(\\hat x)\\,d\\hat x\n",
        "   \\;\\approx\\;\n",
        "   \\sum_{q=1}^n w_q\\,g(\\hat x_q).\n",
        "   $$\n",
        "\n",
        "   Taking\n",
        "   $\\displaystyle g(\\hat x)=f(a+h\\,\\hat x)\\,\\hat\\phi_i(\\hat x)\\,h$, we get\n",
        "   $$\n",
        "   f_K^i\n",
        "   \\;\\approx\\;\n",
        "   \\sum_{q=1}^n w_q\\,\n",
        "   f\\bigl(a + h\\,\\hat x_q\\bigr)\\,\n",
        "   \\hat\\phi_i(\\hat x_q)\\,\n",
        "   h.\n",
        "   $$\n",
        "5. **Vector form**\n",
        "   Collecting all local indices $i$, the **local load vector** on $K$ is\n",
        "\n",
        "   $$\n",
        "   \\boxed{\n",
        "   \\mathbf{f}_K\n",
        "   = h\n",
        "   \\begin{bmatrix}\n",
        "   \\sum_{q=1}^n w_q\\,f(a + h\\,\\hat x_q)\\,\\hat\\phi_1(\\hat x_q)\\\\[6pt]\n",
        "   \\sum_{q=1}^n w_q\\,f(a + h\\,\\hat x_q)\\,\\hat\\phi_2(\\hat x_q)\\\\\n",
        "   \\vdots\n",
        "   \\end{bmatrix}.\n",
        "   }\n",
        "   $$   \n",
        "This gives the **quadrature-based** approximation of $\\mathbf{f}_{K}$"
      ]
    },
    {
      "cell_type": "markdown",
      "id": "f274e721",
      "metadata": {
        "lines_to_next_cell": 0,
        "id": "f274e721"
      },
      "source": [
        "### Exercise 6\n",
        "\n",
        "Complete the functions `phi_hat` and `cell_load`. The latter returns the load\n",
        "vector for a cell with vertices $a$ and $b$ with $b > a$.\n"
      ]
    },
    {
      "cell_type": "code",
      "execution_count": 10,
      "id": "f8101639",
      "metadata": {
        "id": "f8101639"
      },
      "outputs": [],
      "source": [
        "def phi_hat(x_hat: float) -> npt.NDArray[np.float64]:\n",
        "    \"\"\"\n",
        "    Calculate the local P1 finite element basis functions.\n",
        "\n",
        "    Args:\n",
        "        x_hat: Position in local element coordinate system.\n",
        "\n",
        "    Returns:\n",
        "        An array containing the evaluation of the local basis functions.\n",
        "    \"\"\"\n",
        "    return np.array([1.0 - x_hat , x_hat], dtype=np.float64)\n",
        "\n",
        "\n",
        "def LHS(x: float) -> float:\n",
        "    return c ** 2 * np.sin(c * x)\n",
        "\n",
        "def cell_load(a: float, b: float) -> npt.NDArray[np.float64]:\n",
        "    \"\"\"Write a documentation string\"\"\"\n",
        "    f_cell = np.zeros(2, dtype=np.float64)\n",
        "    h = b - a\n",
        "\n",
        "    for point, weight in zip(quadrature_points, quadrature_weights):\n",
        "        x = a + h * point  # map from reference to physical element: map point ∈ [0,1] → x ∈ [a,b]\n",
        "        phi_vals = phi_hat(point)  # basis values at quadrature point : [φ̂₁(point), φ̂₂(point)]\n",
        "        f_val = LHS(x)                          # evaluate source function at mapped point\n",
        "        f_cell += weight * f_val * phi_vals   # sum contribution\n",
        "\n",
        "    f_cell *= h                         # multiply by Jacobian dx/d\\hat{x} = h\n",
        "    return f_cell\n"
      ]
    },
    {
      "cell_type": "markdown",
      "id": "ace78bd5",
      "metadata": {
        "lines_to_next_cell": 0,
        "id": "ace78bd5"
      },
      "source": [
        "So for the second cell we can assemble the local stiffness matrix\n",
        "contribution"
      ]
    },
    {
      "cell_type": "code",
      "execution_count": 11,
      "id": "a9111a52",
      "metadata": {
        "id": "a9111a52",
        "colab": {
          "base_uri": "https://localhost:8080/"
        },
        "outputId": "75c98403-0036-49e9-b2be-b652c6c61f37"
      },
      "outputs": [
        {
          "output_type": "stream",
          "name": "stdout",
          "text": [
            "[0.02012294 0.02511425]\n"
          ]
        }
      ],
      "source": [
        "print(cell_load(*mesh.geometry[mesh.topology[1]]))"
      ]
    },
    {
      "cell_type": "markdown",
      "id": "4bd8eea0",
      "metadata": {
        "lines_to_next_cell": 0,
        "id": "4bd8eea0"
      },
      "source": [
        "### Exercise 7\n",
        "\n",
        "Complete the function `assemble_load`."
      ]
    },
    {
      "cell_type": "code",
      "execution_count": 12,
      "id": "11ac8662",
      "metadata": {
        "id": "11ac8662"
      },
      "outputs": [],
      "source": [
        "def assemble_load(fs: FunctionSpace, cell_load_fn: Callable) -> npt.NDArray[np.float64]:\n",
        "    f = np.zeros(fs.size)\n",
        "\n",
        "    # Loop over the cells of the mesh\n",
        "    for cell in range(0, fs.mesh.topology.shape[0]):\n",
        "        # Step 1: Calculate the stiffness matrix on this cell\n",
        "        # `mesh.topology[cell]` gives the global indices of the two vertices of the `cell`.\n",
        "        vertical_index = fs.mesh.topology[cell]\n",
        "        # `mesh.geometry` maps those indices to physical coordinates\n",
        "        a, b = fs.mesh.geometry[vertical_index]\n",
        "        f_local = cell_load_fn(a, b)\n",
        "        # Step 2: Extract the local to global degree of freedom mapping for the cell\n",
        "        dofs = fs.dofmap[cell]\n",
        "        # Step 3: Scatter to the vector\n",
        "        f[dofs] += f_local\n",
        "    return f\n",
        "\n",
        "\n",
        "f = assemble_load(fs, cell_load)\n",
        "if num_cells == 4:\n",
        "    print(f)"
      ]
    },
    {
      "cell_type": "markdown",
      "id": "f492ee01",
      "metadata": {
        "lines_to_next_cell": 0,
        "id": "f492ee01"
      },
      "source": [
        "## Applying Dirichlet conditions\n",
        "\n",
        "We have assembled the matrix on the space $V_h$, but recall in the\n",
        "specification of the weak form of the problem we used the space\n",
        "$\\mathring{V}_h$, that contains only the basis functions associated with the\n",
        "interior degrees of freedom. We can transfer the problem to the space\n",
        "$\\mathring{V}_h$ by modifying the linear system in place. For the degrees of\n",
        "freedom associated with vertices on the boundary (here, always $0$ and $N -\n",
        "1$) we shall modify the stiffness matrix $\\mathbf{K}$ by\n",
        "\n",
        "1. placing $0$ on the corresponding rows,\n",
        "2. placing $0$ on the corresponding columns,\n",
        "3. inserting $1$ on the corresponding diagonals,\n",
        "\n",
        "For the force vector $\\mathbf{f}$ we place $0$ on the corresponding rows.\n"
      ]
    },
    {
      "cell_type": "code",
      "execution_count": 13,
      "id": "9fdd34cb",
      "metadata": {
        "id": "9fdd34cb"
      },
      "outputs": [],
      "source": [
        "\n",
        "\n",
        "def apply_boundary_conditions(\n",
        "    dofs: npt.NDArray[np.int32], K: scipy.sparse.lil_matrix, f: npt.NDArray[np.float64]\n",
        "):\n",
        "    \"\"\"Apply boundary conditions on dofs to the linear system (K, f).\n",
        "\n",
        "    Note: K and f are modified in-place.\n",
        "\n",
        "    Args:\n",
        "        dofs: the degrees of freedom to apply boundary conditions to.\n",
        "        K: the stiffness matrix.\n",
        "        f: the force vector.\n",
        "    \"\"\"\n",
        "    num_dofs = K.shape[0]\n",
        "\n",
        "    for dof in dofs:\n",
        "        # Zero the row\n",
        "        K.rows[dof] = []\n",
        "        K.data[dof] = []\n",
        "\n",
        "        # Loop over all the rows\n",
        "        for row in range(num_dofs):\n",
        "            # Does this row have an entry on the column associated with dof?\n",
        "            if dof in K.rows[row]:\n",
        "                idx = K.rows[row].index(dof)\n",
        "                K.rows[row].pop(idx)\n",
        "                K.data[row].pop(idx)\n",
        "\n",
        "        K[dof, dof] = 1.0\n",
        "        f[dof] = 0.0\n",
        "\n",
        "\n",
        "boundary_dofs = np.array([0, mesh.geometry.shape[0] - 1], dtype=np.int32)\n",
        "apply_boundary_conditions(boundary_dofs, K, f)\n",
        "\n",
        "if num_cells == 4:\n",
        "    print(K)\n",
        "    print(f)"
      ]
    },
    {
      "cell_type": "markdown",
      "id": "5208bf80",
      "metadata": {
        "lines_to_next_cell": 0,
        "id": "5208bf80"
      },
      "source": [
        "## Solving\n",
        "We can now solve the system $\\mathbf{K} \\mathbf{u}_h = \\mathbf{f}$ to find\n",
        "the vector of previously unknown coefficients $\\mathbf{u}_h$ of the finite\n",
        "element solution $u_h$."
      ]
    },
    {
      "cell_type": "code",
      "execution_count": 14,
      "id": "b04f185e",
      "metadata": {
        "id": "b04f185e",
        "colab": {
          "base_uri": "https://localhost:8080/",
          "height": 449
        },
        "outputId": "15b1f384-e47d-4b32-8fec-6ecc8941c0a5"
      },
      "outputs": [
        {
          "output_type": "display_data",
          "data": {
            "text/plain": [
              "<Figure size 640x480 with 1 Axes>"
            ],
            "image/png": "[encoded data removed]"
          },
          "metadata": {}
        }
      ],
      "source": [
        "K_csr = K.tocsr()\n",
        "u = scipy.sparse.linalg.spsolve(K_csr, f)\n",
        "\n",
        "plt.plot(mesh.geometry, u, \"o-\")\n",
        "plt.plot(mesh.geometry, np.sin(c * mesh.geometry), \"-\")\n",
        "plt.xlabel(r\"$x$\")\n",
        "plt.ylabel(r\"$u$\")\n",
        "plt.show()"
      ]
    },
    {
      "cell_type": "markdown",
      "id": "4d178539",
      "metadata": {
        "lines_to_next_cell": 0,
        "id": "4d178539"
      },
      "source": [
        "## Further exercises\n",
        "\n",
        "### Exercise 8\n",
        "\n",
        "Make a new function `cell_stiffness_quadrature` to compute the stiffness\n",
        "matrix using a quadrature approach. Comment on the necessary order of the\n",
        "quadrature rule to exactly compute the integrand. Pass this up to your\n",
        "assembler and re-run, making sure you get the same result.\n"
      ]
    },
    {
      "cell_type": "code",
      "execution_count": 15,
      "id": "38ea28ee",
      "metadata": {
        "id": "38ea28ee"
      },
      "outputs": [],
      "source": [
        "def cell_stiffness_quadrature(a: float, b: float) -> npt.NDArray[np.float64]:\n",
        "    \"\"\"Calculate the quadrature stiffness matrix contribution for a cell with vertices a and b.\n",
        "\n",
        "    Args:\n",
        "        a: Position of first vertex.\n",
        "        b: Position of second vertex.\n",
        "\n",
        "    Return:\n",
        "        The stiffness matrix contribution for the cell.\n",
        "    \"\"\"\n",
        "    assert b > a\n",
        "    h = b - a\n",
        "\n",
        "    # Initialize stiffness matrix\n",
        "    A = np.zeros((2, 2), dtype=np.float64)\n",
        "\n",
        "    # Derivatives of basis functions in reference element\n",
        "    # For 1D linear elements these are constant:\n",
        "    # dϕ₀/dx̂ = -1, dϕ₁/dx̂ = 1\n",
        "    dphi_hat = np.array([-1.0, 1.0], dtype=np.float64)\n",
        "\n",
        "    # Use quadrature to approximate the integral\n",
        "    for point, weight in zip(quadrature_points, quadrature_weights):\n",
        "        # For each combination of basis functions\n",
        "        for i in range(2):\n",
        "            for j in range(2):\n",
        "                # Add contribution at this quadrature point\n",
        "                # The 1/h factor comes from the chain rule when transforming derivatives\n",
        "                A[i, j] += weight * dphi_hat[i] * dphi_hat[j] / h\n",
        "\n",
        "    return A"
      ]
    },
    {
      "cell_type": "markdown",
      "id": "dc1013c1",
      "metadata": {
        "lines_to_next_cell": 0,
        "id": "dc1013c1"
      },
      "source": [
        "### Exercise 10\n",
        "\n",
        "Write a function `solve` which takes the `num_cells` (number of cells) as an\n",
        "argument. Return the solution from the function. Plot a sequence of solutions\n",
        "on increasingly fine meshes.\n"
      ]
    },
    {
      "cell_type": "code",
      "execution_count": 16,
      "id": "7a65e09d",
      "metadata": {
        "id": "7a65e09d",
        "colab": {
          "base_uri": "https://localhost:8080/",
          "height": 472
        },
        "outputId": "254bf855-bdcc-41e8-96d3-4a7bcd9fc22a"
      },
      "outputs": [
        {
          "output_type": "display_data",
          "data": {
            "text/plain": [
              "<Figure size 640x480 with 1 Axes>"
            ],
            "image/png": "[encoded data removed]"
          },
          "metadata": {}
        }
      ],
      "source": [
        "\n",
        "def solve(num_cells: int):\n",
        "    mesh = create_unit_interval_mesh(num_cells)  # however your mesh is built\n",
        "    fs = FunctionSpace(mesh=mesh, dofmap=mesh.topology.copy(), size=mesh.geometry.shape[0])\n",
        "\n",
        "    K = assemble_stiffness(fs, cell_stiffness_quadrature)  # or analytic\n",
        "    f = assemble_load(fs, cell_load)\n",
        "\n",
        "    boundary_dofs = np.array([0, mesh.geometry.shape[0] - 1], dtype=np.int32)\n",
        "    apply_boundary_conditions(boundary_dofs, K, f)\n",
        "\n",
        "    K_csr = K.tocsr()\n",
        "    u_h = scipy.sparse.linalg.spsolve(K_csr, f)\n",
        "\n",
        "    return mesh.geometry, u_h\n",
        "\n",
        "for N in [4, 8, 16, 32, 64]:\n",
        "    x, u = solve(N)\n",
        "    plt.plot(x, u, label=f\"{N} cells\")\n",
        "\n",
        "plt.legend()\n",
        "plt.title(\"FEM solutions on refined meshes\")\n",
        "plt.xlabel(\"x\")\n",
        "plt.ylabel(\"u\")\n",
        "plt.show()"
      ]
    },
    {
      "cell_type": "markdown",
      "id": "0877e6dd",
      "metadata": {
        "lines_to_next_cell": 0,
        "id": "0877e6dd"
      },
      "source": [
        "### Exercise 11\n",
        "\n",
        "Modify the `solve` function to additionally return the error between the\n",
        "interpolant of the solution and the solution in the natural norm.\n",
        "\n",
        "$$\n",
        "e_h = \\lVert I_h u - u_h \\rVert^2_{H^1_0} = (\\mathbf{u} - \\mathbf{u}_h)^T \\mathbf{K} (\\mathbf{u} - \\mathbf{u}_h)\n",
        "$$\n",
        "\n",
        "where $\\mathbf{u}$ is the vector of coefficients of the interpolant of the\n",
        "exact solution $u$.\n",
        "\n",
        "On a sequence of refined meshes compute the associated error. Plot the error\n",
        "$e_h$ against $h$ on a log-log plot, and calculate the slope. What do you\n",
        "observe?"
      ]
    },
    {
      "cell_type": "code",
      "execution_count": 32,
      "id": "e03e884a",
      "metadata": {
        "id": "e03e884a",
        "colab": {
          "base_uri": "https://localhost:8080/",
          "height": 1000
        },
        "outputId": "b72c1f10-809a-4ce6-9b9b-b6af116807d9"
      },
      "outputs": [
        {
          "output_type": "display_data",
          "data": {
            "text/plain": [
              "<Figure size 640x480 with 1 Axes>"
            ],
            "image/png": "[encoded data removed]"
          },
          "metadata": {}
        },
        {
          "output_type": "display_data",
          "data": {
            "text/plain": [
              "<Figure size 640x480 with 1 Axes>"
            ],
            "image/png": "[encoded data removed]"
          },
          "metadata": {}
        },
        {
          "output_type": "execute_result",
          "data": {
            "text/plain": [
              "<matplotlib.legend.Legend at 0x7e248e5e2d10>"
            ]
          },
          "metadata": {},
          "execution_count": 32
        },
        {
          "output_type": "display_data",
          "data": {
            "text/plain": [
              "<Figure size 640x480 with 1 Axes>"
            ],
            "image/png": "[encoded data removed]"
          },
          "metadata": {}
        }
      ],
      "source": [
        "def u_exact(x: float) -> float:\n",
        "    return np.sin(c * x)\n",
        "\n",
        "def solve(num_cells: int, return_error: bool = False):\n",
        "    mesh = create_unit_interval_mesh(num_cells)  # however your mesh is built\n",
        "    fs =  FunctionSpace(mesh=mesh, dofmap=mesh.topology.copy(), size=mesh.geometry.shape[0])\n",
        "\n",
        "    K = assemble_stiffness(fs, cell_stiffness_quadrature)  # or analytic\n",
        "    f = assemble_load(fs, cell_load)\n",
        "\n",
        "    boundary_dofs = np.array([0, mesh.geometry.shape[0] - 1], dtype=np.int32)\n",
        "    apply_boundary_conditions(boundary_dofs, K, f)\n",
        "\n",
        "    K_csr = K.tocsr()\n",
        "    u_h = scipy.sparse.linalg.spsolve(K_csr, f)\n",
        "    x = mesh.geometry.flatten()\n",
        "    if return_error:\n",
        "        u_e = u_exact(x)\n",
        "        e = u_e - u_h\n",
        "        error = e @ (K_csr.dot(e))\n",
        "        return x, u_h, error\n",
        "\n",
        "    return x, u_h, 0\n",
        "\n",
        "# Example: plot solutions on refined meshes\n",
        "meshes = [4, 8, 16, 32, 64, 128]\n",
        "plt.figure()\n",
        "for N in meshes:\n",
        "    x, u, _ = solve(N)\n",
        "    plt.plot(x, u, label=f\"{N} cells\")\n",
        "plt.legend()\n",
        "plt.title(\"FEM solutions on refined meshes\")\n",
        "plt.xlabel(\"x\"); plt.ylabel(\"u\")\n",
        "plt.show()\n",
        "\n",
        "\n",
        "# Compute and plot error vs meshes & error vs h\n",
        "hs = []\n",
        "errors = []\n",
        "for N in meshes:\n",
        "    h = 1.0 / N\n",
        "    _, _, err = solve(N, return_error=True)\n",
        "    hs.append(h)\n",
        "    errors.append(err)\n",
        "\n",
        "plt.figure()\n",
        "plt.loglog(hs, errors, \"o-\", label=r\"$\\|I_hu - u_h\\|_{H^1}^2$\")\n",
        "plt.xlabel(\"h\"); plt.ylabel(\"Error\")\n",
        "plt.grid(True, which=\"both\")\n",
        "plt.legend()\n",
        "plt.show()\n",
        "\n",
        "plt.figure()  # Create a new figure for the error plot\n",
        "plt.loglog(meshes, errors, \"o-\", label=r\"$\\| I_h u - u_h \\|_{H^1}$\")\n",
        "plt.xlabel(\"meshes\")\n",
        "plt.ylabel(\"Error\")\n",
        "plt.grid(True, which=\"both\")\n",
        "plt.legend()"
      ]
    },
    {
      "cell_type": "code",
      "source": [],
      "metadata": {
        "id": "umEfNi20VmBT"
      },
      "id": "umEfNi20VmBT",
      "execution_count": null,
      "outputs": []
    }
  ],
  "metadata": {
    "kernelspec": {
      "display_name": "Python 3 (ipykernel)",
      "language": "python",
      "name": "python3"
    },
    "colab": {
      "provenance": [],
      "include_colab_link": true
    }
  },
  "nbformat": 4,
  "nbformat_minor": 5
}